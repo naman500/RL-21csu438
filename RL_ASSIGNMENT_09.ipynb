{
  "nbformat": 4,
  "nbformat_minor": 0,
  "metadata": {
    "colab": {
      "provenance": [],
      "authorship_tag": "ABX9TyPGtomWrGlyoAYZLnv9JlwG",
      "include_colab_link": true
    },
    "kernelspec": {
      "name": "python3",
      "display_name": "Python 3"
    },
    "language_info": {
      "name": "python"
    }
  },
  "cells": [
    {
      "cell_type": "markdown",
      "metadata": {
        "id": "view-in-github",
        "colab_type": "text"
      },
      "source": [
        "<a href=\"https://colab.research.google.com/github/naman500/RL-21csu438/blob/main/RL_ASSIGNMENT_09.ipynb\" target=\"_parent\"><img src=\"https://colab.research.google.com/assets/colab-badge.svg\" alt=\"Open In Colab\"/></a>"
      ]
    },
    {
      "cell_type": "code",
      "execution_count": 1,
      "metadata": {
        "colab": {
          "base_uri": "https://localhost:8080/"
        },
        "id": "ceY1iehqs2wD",
        "outputId": "af03d839-1390-4e7b-85dd-e0c81dad7326"
      },
      "outputs": [
        {
          "output_type": "stream",
          "name": "stdout",
          "text": [
            "Average return after 10000 episodes: -0.391\n",
            "Win percentage: 28.42%\n"
          ]
        }
      ],
      "source": [
        "import numpy as np\n",
        "\n",
        "# Function to play Blackjack\n",
        "def play_blackjack():\n",
        "    player_hand = [np.random.randint(1, 11), np.random.randint(1, 11)]  # Initial two cards for the player\n",
        "    dealer_hand = [np.random.randint(1, 11), np.random.randint(1, 11)]  # Initial two cards for the dealer\n",
        "\n",
        "    # Player's Turn\n",
        "    while sum(player_hand) < 20:  # Player hits until the sum is 20 or more\n",
        "        player_hand.append(np.random.randint(1, 11))\n",
        "\n",
        "    # Dealer's Turn\n",
        "    while sum(dealer_hand) < 17:  # Dealer hits until the sum is 17 or more\n",
        "        dealer_hand.append(np.random.randint(1, 11))\n",
        "\n",
        "    # Determine the winner\n",
        "    if sum(player_hand) > 21:  # Player busts\n",
        "        return -1\n",
        "    elif sum(dealer_hand) > 21:  # Dealer busts\n",
        "        return 1\n",
        "    elif sum(player_hand) > sum(dealer_hand):  # Player wins\n",
        "        return 1\n",
        "    elif sum(player_hand) == sum(dealer_hand):  # It's a draw\n",
        "        return 0\n",
        "    else:  # Dealer wins\n",
        "        return -1\n",
        "\n",
        "# Monte Carlo Method to estimate the value function\n",
        "def monte_carlo(num_episodes):\n",
        "    total_return = 0\n",
        "    total_wins = 0\n",
        "\n",
        "    for episode in range(num_episodes):\n",
        "        reward = play_blackjack()\n",
        "        total_return += reward\n",
        "        if reward == 1:  # Counting the number of wins\n",
        "            total_wins += 1\n",
        "\n",
        "    average_return = total_return / num_episodes\n",
        "    win_percentage = (total_wins / num_episodes) * 100\n",
        "\n",
        "    print(f\"Average return after {num_episodes} episodes: {average_return}\")\n",
        "    print(f\"Win percentage: {win_percentage}%\")\n",
        "\n",
        "# Number of episodes for Monte Carlo\n",
        "num_episodes = 10000\n",
        "\n",
        "# Applying Monte Carlo to solve the Blackjack problem\n",
        "monte_carlo(num_episodes)\n"
      ]
    }
  ]
}